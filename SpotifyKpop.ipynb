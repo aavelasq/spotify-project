{
 "cells": [
  {
   "cell_type": "markdown",
   "metadata": {},
   "source": [
    "# An Analysis on K-Pop Spotify Data"
   ]
  },
  {
   "cell_type": "markdown",
   "metadata": {},
   "source": [
    "## Summary of Findings"
   ]
  },
  {
   "cell_type": "markdown",
   "metadata": {},
   "source": [
    "### Dataset Introduction\n",
    "\n",
    "This dataset consists of Spotify track data taken from various artists under the K-Pop genre, which includes information such as how long a track is, its popularity value, and its [audio features](https://developer.spotify.com/documentation/web-api/reference/tracks/get-audio-features/). With the immense amount of attention K-Pop as a genre is gaining as of recent in the West as seen with artists like BTS and Blackpink, this analysis might be helpful in identifying the possible preferences and biases of these listeners. In the first part of my analysis, I will conduct a hypothesis test that will answer the following: Is the popularity value of a track affected by the gender of the artist? Then, the second part will focus on my process on building a model designed to predict the popularity value of a track. For the first part of my investigation, I will be mainly focusing on the popularity and gender columns below."
   ]
  },
  {
   "cell_type": "markdown",
   "metadata": {},
   "source": [
    "### Cleaning and EDA\n",
    "\n",
    "First off, the original dataset did not include the gender of the artists recorded as Spotify does not record that data. So, I created a function that would assign a gender to the artists, which categorized them based on lists that I created manually using prior knowledge and some Google searches. I extracted the artists and popularity values, putting them into a separate dataframe and applied the function onto the artists column to get their genders. Since I'm only looking at male and female artists, I dropped any artists that were assigned as 'co-ed' when conducting the hypothesis test. There were no missing values in any of the columns, so I did not have to apply imputation on them. \n",
    "\n",
    "**Univariate Anaylsis:**\n",
    "For this part, I calcuated the mean, min, max, and standard deviation of the popularity column. The popularity mean being 48.23 suggests that most K-Pop tracks have average scores in popularity, as popularity is measured on a scale of 0-100. I also plotted the distribution of the popularity column, which appears to have a normal distribution. The value counts on the gender column shows that there are more tracks by male artists versus female artists, which might possibly result in more bias towards males because there is more data. \n",
    "\n",
    "**Bivariate Anaylsis:**\n",
    "Upon plotting the distributions of popularity values for male and female groups respectively, we can see that both distributions appear to be similar and normal in both the histogram and box plot. However, there seems to be more outliers that represent low popularity values for male artists versus female, which can possibly skew the data. \n",
    "\n",
    "**Interesting Aggregates:**\n",
    "For this part, I grouped the dataset by year and got the mean, standard deviation, min, and max of each group. Female artists have the highest mean, std, and max popularity value (48.8, 13.4, 89) while male artists have the lowest min (0). Co-Ed artists have the lowest mean and std values of 44.45 and 12.88 respectively, which makes sense since they have the least amount of tracks in the dataset. Even though female artists have the highest mean and std, the popularity mean and std values of male and female artists are similar to each other.\n",
    "\n",
    "Because my dataset contains no missing values at all, I will not be conducting an assessment of missingness. Therefore, we will now go over the hypothesis test in the next section."
   ]
  },
  {
   "cell_type": "markdown",
   "metadata": {},
   "source": [
    "### Hypothesis Test\n",
    "- **Question:** Does gender affect the popularity value of a certain track? \n",
    "- **Null Hypothesis:** The popularity values among male and female artists/groups have the same distribution. \n",
    "- **Alternative Hypothesis:** The distribution of popularity values among male artists/groups differs than those of female artists/groups.\n",
    "\n",
    "To test my hypothesis, I conducted a permutation test using the absolute differences in means as my test statistic. This test statistic can easily tell us whether the distributions are similar or not. So if both distributions were the same, then their absolute difference would end up being 0. The significance level I will be using for this hypothesis test is 0.01. Our p-value was 0.2027, which means that we would fail to reject the null hypothesis. This means that we cannot say that the distribution of popularity values among male and female artists differ from each other. The data supports the null hypothesis, so both distributions are the same/similar to each other. \n",
    "\n",
    "It is important to note that there is the possibility that if I had more data, possibly more data from female artists, then the results of the hypothesis test might change and give us a clearer conclusion. Perhaps I could improve on this by taking artists from other playlists other than the playlists that Spotify puts under the K-Pop genre category. "
   ]
  },
  {
   "cell_type": "markdown",
   "metadata": {},
   "source": [
    "### Model Introduction\n",
    "The following section details the process of how I built a model designed to predict the popularity value of a K-Pop track. This model is based on a regression problem as the value I'm predicting is quantitative. For my baseline model, I used 4 features utilizing the columns Artists, Duration_ms, Danceability, and Gender as they were some of the most basic features that would define a track without getting too detailed into the audio features of the track itself. Then for my final model, I used the previous features of my baseline model and added three new ones using some of the audio features: Energy, Valance, and Tempo. Considering how the baseline model only utilized one audio feature, I added more audio features in hopes of making it more detailed or specific to the track itself. The evaluation metric that I used for both models is the score or R^2 value of the model. "
   ]
  },
  {
   "cell_type": "markdown",
   "metadata": {},
   "source": [
    "### Baseline Model\n",
    "\n",
    "For the baseline model, I only used 4 features (Artists, Duration_ms, Danceability, and Gender) at first. The columns Artists and Gender are both nominal,  while Duration_ms and Danceability are quantitative. I applied One-Hot Encoding to these columns and for my regressor, I used Linear Regression. After running the model a couple times, the model gave an average score/R^2 value of about 0.58 and a RMSE mean of 8.59. Because the average score is not that low, this suggests that this model somewhat fits to the data. Also, the low mean RMSE demonstrates that the model has low error. In conclusion, this baseline model is not that bad, but it could use some improvements to make it more accurate. "
   ]
  },
  {
   "cell_type": "markdown",
   "metadata": {},
   "source": [
    "### Final Model\n",
    "\n",
    "In developing my final model, I decided to add three additional features using the following columns: Energy, Valance, and Tempo. Then, I created and tested 3 different models with different transformers being applied to the added columns to construct the features. \n",
    "\n",
    "- **Model 1: Binarizer w/ Basic Threshold -** For model 1, I applied the binarizer transformer on columns Danceability, Energy, and Valence, setting the threshold at 0.5 since these columns' values range from 0.0 to 1 to indicate how prevalent that specific audio feature is in the track. This feature was designed to categorize tracks on whether they have high danceability/energy/valence or not on a basic level. Therefore, the popularity value could be predicted based on this knowledge of whether the track has more of a certain value  or not.  \n",
    "\n",
    "- **Model 2: Binarizer w/ Specified Thresholds -** Instead of setting the threshold at 0.5, I set the thresholds as the means of the Danceability, Energy, and Valance columns respectively. By setting the thresholds to the means, it would make the model fit more to the data, which can be beneficial to this model as the audio feature means of K-Pop tracks might differ significantly compared to other genres. \n",
    "\n",
    "- **Model 3: Function Transformer + Binarizer -** For this model, I used a Function Transformer on the Duration_ms column to categorize tracks that have either a short, average, or long duration. Considering that tracks with certain durations might be more popular than others, this was the main reason I constructed this feature. I also used the previous model's binarizer transformers for this model as well. \n",
    "\n",
    "Upon conducting a train-test split of 90% training and 10% test data on all three models, Model 3 gave the best results with a score of 0.669 versus Model 1's score of 0.664 and Model 2's score of 0.667. After selecting Model 3 as my final model, I had to figure out which were the best parameters for the model's regressor. After conducting a GridSearchCV, it was best to set the parameters fit_intercept to False, n_jobs to 5, and normalize to False. In the end, my final model gave an RMSE mean of 7.44 and a score mean of 0.684, which shows improvement from my baseline model. "
   ]
  },
  {
   "cell_type": "markdown",
   "metadata": {},
   "source": [
    "### Fairness Evaluation\n",
    "\n",
    "In order to evaluate the fairness of my final model, I conducted a permutation test on a subset of the original data. The subset was created from the Gender column, separating the data on whether the artist(s) were male or female. With this subset, the test will evaluate whether the model performs better on data of tracks made by primarily male or female artists. Since my final model uses regression, I used the score to evaluate its fairness. Our null hypothesis is that the model is fair as the score is similar for both datasets, while the alternative hypothesis is that the model is unfair as the score is different for both datasets. The test statistic I used is the absolute difference between the scores. After conducting the permutation test, it gave us a p-value of 0.1, which at a significance level of 0.05 means that we would fail to reject the null hypothesis. This means that for this particular subset, the model is deemed fair and the scores of both subsets are similar. Although the permutation test suggests that my final model is fair, there is still a possibility that the model could still have some bias and thus would give different results if used on a completely different dataset or if I had more data. "
   ]
  },
  {
   "cell_type": "markdown",
   "metadata": {},
   "source": [
    "## Code"
   ]
  },
  {
   "cell_type": "code",
   "execution_count": 1,
   "metadata": {},
   "outputs": [],
   "source": [
    "#imports\n",
    "import matplotlib.pyplot as plt\n",
    "import numpy as np\n",
    "import os\n",
    "import pandas as pd\n",
    "import seaborn as sns\n",
    "\n",
    "%matplotlib inline\n",
    "%config InlineBackend.figure_format = 'retina' # Higher resolution figures"
   ]
  },
  {
   "cell_type": "code",
   "execution_count": 2,
   "metadata": {},
   "outputs": [],
   "source": [
    "# reading in the dataset\n",
    "fp = os.path.join('kpop_data.csv')\n",
    "df = pd.read_csv(fp)"
   ]
  },
  {
   "cell_type": "markdown",
   "metadata": {},
   "source": [
    "### Cleaning and EDA"
   ]
  },
  {
   "cell_type": "code",
   "execution_count": 3,
   "metadata": {},
   "outputs": [
    {
     "data": {
      "text/html": [
       "<div>\n",
       "<style scoped>\n",
       "    .dataframe tbody tr th:only-of-type {\n",
       "        vertical-align: middle;\n",
       "    }\n",
       "\n",
       "    .dataframe tbody tr th {\n",
       "        vertical-align: top;\n",
       "    }\n",
       "\n",
       "    .dataframe thead th {\n",
       "        text-align: right;\n",
       "    }\n",
       "</style>\n",
       "<table border=\"1\" class=\"dataframe\">\n",
       "  <thead>\n",
       "    <tr style=\"text-align: right;\">\n",
       "      <th></th>\n",
       "      <th>album</th>\n",
       "      <th>artists</th>\n",
       "      <th>disc_number</th>\n",
       "      <th>duration_ms</th>\n",
       "      <th>explicit</th>\n",
       "      <th>external_ids</th>\n",
       "      <th>external_urls</th>\n",
       "      <th>href</th>\n",
       "      <th>id</th>\n",
       "      <th>is_local</th>\n",
       "      <th>...</th>\n",
       "      <th>loudness</th>\n",
       "      <th>mode</th>\n",
       "      <th>speechiness</th>\n",
       "      <th>acousticness</th>\n",
       "      <th>instrumentalness</th>\n",
       "      <th>liveness</th>\n",
       "      <th>valence</th>\n",
       "      <th>tempo</th>\n",
       "      <th>duration_ms.1</th>\n",
       "      <th>time_signature</th>\n",
       "    </tr>\n",
       "  </thead>\n",
       "  <tbody>\n",
       "    <tr>\n",
       "      <td>0</td>\n",
       "      <td>{'album_type': 'album', 'artists': [{'external...</td>\n",
       "      <td>EXO-SC</td>\n",
       "      <td>1</td>\n",
       "      <td>209253</td>\n",
       "      <td>False</td>\n",
       "      <td>{'isrc': 'KRA302000363'}</td>\n",
       "      <td>{'spotify': 'https://open.spotify.com/track/4g...</td>\n",
       "      <td>https://api.spotify.com/v1/tracks/4gGZc6MMYavM...</td>\n",
       "      <td>4gGZc6MMYavM5KFS2zwOVL</td>\n",
       "      <td>False</td>\n",
       "      <td>...</td>\n",
       "      <td>-2.837</td>\n",
       "      <td>0</td>\n",
       "      <td>0.0364</td>\n",
       "      <td>0.3620</td>\n",
       "      <td>0.000000</td>\n",
       "      <td>0.0997</td>\n",
       "      <td>0.612</td>\n",
       "      <td>111.928</td>\n",
       "      <td>209253</td>\n",
       "      <td>4</td>\n",
       "    </tr>\n",
       "    <tr>\n",
       "      <td>1</td>\n",
       "      <td>{'album_type': 'album', 'artists': [{'external...</td>\n",
       "      <td>EXO-SC</td>\n",
       "      <td>1</td>\n",
       "      <td>195613</td>\n",
       "      <td>False</td>\n",
       "      <td>{'isrc': 'KRA302000366'}</td>\n",
       "      <td>{'spotify': 'https://open.spotify.com/track/6k...</td>\n",
       "      <td>https://api.spotify.com/v1/tracks/6ksOaijLwaSW...</td>\n",
       "      <td>6ksOaijLwaSWTVRtPgakt0</td>\n",
       "      <td>False</td>\n",
       "      <td>...</td>\n",
       "      <td>-2.927</td>\n",
       "      <td>0</td>\n",
       "      <td>0.0487</td>\n",
       "      <td>0.2320</td>\n",
       "      <td>0.000000</td>\n",
       "      <td>0.2040</td>\n",
       "      <td>0.772</td>\n",
       "      <td>89.970</td>\n",
       "      <td>195613</td>\n",
       "      <td>4</td>\n",
       "    </tr>\n",
       "    <tr>\n",
       "      <td>2</td>\n",
       "      <td>{'album_type': 'single', 'artists': [{'externa...</td>\n",
       "      <td>EXO-SC</td>\n",
       "      <td>1</td>\n",
       "      <td>203866</td>\n",
       "      <td>False</td>\n",
       "      <td>{'isrc': 'KRA301900282'}</td>\n",
       "      <td>{'spotify': 'https://open.spotify.com/track/3T...</td>\n",
       "      <td>https://api.spotify.com/v1/tracks/3TfLZodlQ1Tz...</td>\n",
       "      <td>3TfLZodlQ1TzNpdrc4KXR5</td>\n",
       "      <td>False</td>\n",
       "      <td>...</td>\n",
       "      <td>-3.811</td>\n",
       "      <td>0</td>\n",
       "      <td>0.1250</td>\n",
       "      <td>0.3010</td>\n",
       "      <td>0.000000</td>\n",
       "      <td>0.1430</td>\n",
       "      <td>0.847</td>\n",
       "      <td>135.029</td>\n",
       "      <td>203867</td>\n",
       "      <td>4</td>\n",
       "    </tr>\n",
       "    <tr>\n",
       "      <td>3</td>\n",
       "      <td>{'album_type': 'album', 'artists': [{'external...</td>\n",
       "      <td>EXO-SC</td>\n",
       "      <td>1</td>\n",
       "      <td>174720</td>\n",
       "      <td>False</td>\n",
       "      <td>{'isrc': 'KRA302000370'}</td>\n",
       "      <td>{'spotify': 'https://open.spotify.com/track/7z...</td>\n",
       "      <td>https://api.spotify.com/v1/tracks/7zgAysZmfnHK...</td>\n",
       "      <td>7zgAysZmfnHKhayf30Dx2U</td>\n",
       "      <td>False</td>\n",
       "      <td>...</td>\n",
       "      <td>-2.735</td>\n",
       "      <td>0</td>\n",
       "      <td>0.2290</td>\n",
       "      <td>0.0421</td>\n",
       "      <td>0.000002</td>\n",
       "      <td>0.2210</td>\n",
       "      <td>0.691</td>\n",
       "      <td>97.048</td>\n",
       "      <td>174720</td>\n",
       "      <td>4</td>\n",
       "    </tr>\n",
       "    <tr>\n",
       "      <td>4</td>\n",
       "      <td>{'album_type': 'album', 'artists': [{'external...</td>\n",
       "      <td>EXO-SC</td>\n",
       "      <td>1</td>\n",
       "      <td>206293</td>\n",
       "      <td>False</td>\n",
       "      <td>{'isrc': 'KRA302000369'}</td>\n",
       "      <td>{'spotify': 'https://open.spotify.com/track/30...</td>\n",
       "      <td>https://api.spotify.com/v1/tracks/308Hr1dbj1ml...</td>\n",
       "      <td>308Hr1dbj1mlLkggoWlxxB</td>\n",
       "      <td>False</td>\n",
       "      <td>...</td>\n",
       "      <td>-1.215</td>\n",
       "      <td>1</td>\n",
       "      <td>0.0483</td>\n",
       "      <td>0.4390</td>\n",
       "      <td>0.000000</td>\n",
       "      <td>0.1040</td>\n",
       "      <td>0.178</td>\n",
       "      <td>166.134</td>\n",
       "      <td>206293</td>\n",
       "      <td>5</td>\n",
       "    </tr>\n",
       "  </tbody>\n",
       "</table>\n",
       "<p>5 rows × 31 columns</p>\n",
       "</div>"
      ],
      "text/plain": [
       "                                               album artists  disc_number  \\\n",
       "0  {'album_type': 'album', 'artists': [{'external...  EXO-SC            1   \n",
       "1  {'album_type': 'album', 'artists': [{'external...  EXO-SC            1   \n",
       "2  {'album_type': 'single', 'artists': [{'externa...  EXO-SC            1   \n",
       "3  {'album_type': 'album', 'artists': [{'external...  EXO-SC            1   \n",
       "4  {'album_type': 'album', 'artists': [{'external...  EXO-SC            1   \n",
       "\n",
       "   duration_ms  explicit              external_ids  \\\n",
       "0       209253     False  {'isrc': 'KRA302000363'}   \n",
       "1       195613     False  {'isrc': 'KRA302000366'}   \n",
       "2       203866     False  {'isrc': 'KRA301900282'}   \n",
       "3       174720     False  {'isrc': 'KRA302000370'}   \n",
       "4       206293     False  {'isrc': 'KRA302000369'}   \n",
       "\n",
       "                                       external_urls  \\\n",
       "0  {'spotify': 'https://open.spotify.com/track/4g...   \n",
       "1  {'spotify': 'https://open.spotify.com/track/6k...   \n",
       "2  {'spotify': 'https://open.spotify.com/track/3T...   \n",
       "3  {'spotify': 'https://open.spotify.com/track/7z...   \n",
       "4  {'spotify': 'https://open.spotify.com/track/30...   \n",
       "\n",
       "                                                href                      id  \\\n",
       "0  https://api.spotify.com/v1/tracks/4gGZc6MMYavM...  4gGZc6MMYavM5KFS2zwOVL   \n",
       "1  https://api.spotify.com/v1/tracks/6ksOaijLwaSW...  6ksOaijLwaSWTVRtPgakt0   \n",
       "2  https://api.spotify.com/v1/tracks/3TfLZodlQ1Tz...  3TfLZodlQ1TzNpdrc4KXR5   \n",
       "3  https://api.spotify.com/v1/tracks/7zgAysZmfnHK...  7zgAysZmfnHKhayf30Dx2U   \n",
       "4  https://api.spotify.com/v1/tracks/308Hr1dbj1ml...  308Hr1dbj1mlLkggoWlxxB   \n",
       "\n",
       "   is_local  ...  loudness mode  speechiness acousticness  instrumentalness  \\\n",
       "0     False  ...    -2.837    0       0.0364       0.3620          0.000000   \n",
       "1     False  ...    -2.927    0       0.0487       0.2320          0.000000   \n",
       "2     False  ...    -3.811    0       0.1250       0.3010          0.000000   \n",
       "3     False  ...    -2.735    0       0.2290       0.0421          0.000002   \n",
       "4     False  ...    -1.215    1       0.0483       0.4390          0.000000   \n",
       "\n",
       "  liveness valence    tempo  duration_ms.1  time_signature  \n",
       "0   0.0997   0.612  111.928         209253               4  \n",
       "1   0.2040   0.772   89.970         195613               4  \n",
       "2   0.1430   0.847  135.029         203867               4  \n",
       "3   0.2210   0.691   97.048         174720               4  \n",
       "4   0.1040   0.178  166.134         206293               5  \n",
       "\n",
       "[5 rows x 31 columns]"
      ]
     },
     "execution_count": 3,
     "metadata": {},
     "output_type": "execute_result"
    }
   ],
   "source": [
    "df.head(5)"
   ]
  },
  {
   "cell_type": "code",
   "execution_count": 4,
   "metadata": {},
   "outputs": [],
   "source": [
    "# drop any unnecessary columns\n",
    "hypo_df = df.drop(columns=['album', 'disc_number', 'explicit', 'external_ids', \n",
    "                      'external_urls', 'href', 'is_local', 'is_playable', \n",
    "                      'preview_url', 'track_number', 'type', 'uri',\n",
    "                      'duration_ms.1', 'id', 'artist_uri', 'danceability', \n",
    "                      'energy', 'key', 'loudness', 'mode', 'speechiness', 'acousticness', \n",
    "                      'instrumentalness', 'liveness', 'valence', 'tempo', 'time_signature', \n",
    "                      'duration_ms'])"
   ]
  },
  {
   "cell_type": "code",
   "execution_count": 5,
   "metadata": {},
   "outputs": [
    {
     "data": {
      "text/html": [
       "<div>\n",
       "<style scoped>\n",
       "    .dataframe tbody tr th:only-of-type {\n",
       "        vertical-align: middle;\n",
       "    }\n",
       "\n",
       "    .dataframe tbody tr th {\n",
       "        vertical-align: top;\n",
       "    }\n",
       "\n",
       "    .dataframe thead th {\n",
       "        text-align: right;\n",
       "    }\n",
       "</style>\n",
       "<table border=\"1\" class=\"dataframe\">\n",
       "  <thead>\n",
       "    <tr style=\"text-align: right;\">\n",
       "      <th></th>\n",
       "      <th>artists</th>\n",
       "      <th>name</th>\n",
       "      <th>popularity</th>\n",
       "    </tr>\n",
       "  </thead>\n",
       "  <tbody>\n",
       "    <tr>\n",
       "      <td>0</td>\n",
       "      <td>EXO-SC</td>\n",
       "      <td>1 Billion Views</td>\n",
       "      <td>71</td>\n",
       "    </tr>\n",
       "    <tr>\n",
       "      <td>1</td>\n",
       "      <td>EXO-SC</td>\n",
       "      <td>Telephone</td>\n",
       "      <td>61</td>\n",
       "    </tr>\n",
       "    <tr>\n",
       "      <td>2</td>\n",
       "      <td>EXO-SC</td>\n",
       "      <td>What a life</td>\n",
       "      <td>61</td>\n",
       "    </tr>\n",
       "    <tr>\n",
       "      <td>3</td>\n",
       "      <td>EXO-SC</td>\n",
       "      <td>On Me</td>\n",
       "      <td>61</td>\n",
       "    </tr>\n",
       "    <tr>\n",
       "      <td>4</td>\n",
       "      <td>EXO-SC</td>\n",
       "      <td>Nothin’</td>\n",
       "      <td>61</td>\n",
       "    </tr>\n",
       "  </tbody>\n",
       "</table>\n",
       "</div>"
      ],
      "text/plain": [
       "  artists             name  popularity\n",
       "0  EXO-SC  1 Billion Views          71\n",
       "1  EXO-SC        Telephone          61\n",
       "2  EXO-SC      What a life          61\n",
       "3  EXO-SC            On Me          61\n",
       "4  EXO-SC          Nothin’          61"
      ]
     },
     "execution_count": 5,
     "metadata": {},
     "output_type": "execute_result"
    }
   ],
   "source": [
    "hypo_df.head(5)"
   ]
  },
  {
   "cell_type": "code",
   "execution_count": 6,
   "metadata": {},
   "outputs": [
    {
     "data": {
      "text/plain": [
       "array(['EXO-SC', 'EXO', 'BAEKHYUN', 'EXO-K', 'CHANYEOL', 'EXO-CBX',\n",
       "       'SUHO', 'CHEN', 'XIUMIN', 'SOMI', 'Red Velvet - IRENE & SEULGI',\n",
       "       'LEE HI', 'BLACKPINK', 'GFRIEND', 'SUNMI', 'TWICE', 'Hwa Sa',\n",
       "       'ITZY', 'CHUNG HA', 'Stray Kids', 'SEVENTEEN', '(G)I-DLE', 'WOODZ',\n",
       "       'EVERGLOW', 'IZ*ONE', 'OH MY GIRL', 'IU', 'TOMORROW X TOGETHER',\n",
       "       'AB6IX', 'Apink', 'NCT DREAM', 'BTS', 'GOT7', 'NCT 127',\n",
       "       'Red Velvet', 'DAY6', 'KARD', 'ZICO', 'Solar', 'DREAMCATCHER',\n",
       "       'LOONA', 'Monsta X', 'WINNER', 'ONEUS', 'KANG DANIEL', 'TAEYEON',\n",
       "       'PARK JI HOON', 'MOMOLAND', 'Kim Na Young', 'Kim Feel',\n",
       "       'Standing Egg', 'Gaho', 'Eric Nam', 'PARK WON', 'HEIZE',\n",
       "       'Park Kyung', 'Sondia', 'Kim Sung Kyu', 'Davichi', 'BEN', 'Gummy',\n",
       "       'SHAUN', 'THE MAN BLK', 'Paul Kim', 'Zion.T', 'HA SUNG WOON',\n",
       "       'OVAN', 'Baek Ji Young', 'SOYOU', 'Lee So Ra', 'Sam Kim',\n",
       "       'Urban Zakapa', 'CHEEZE', 'SURAN', 'Huh Gak', 'J_ust', 'A.C.E',\n",
       "       'HYO', 'AleXa', 'WayV', 'Weki Meki', 'TOO', 'VERIVERY', 'WJSN',\n",
       "       'ONEWE', 'BVNDIT', 'NATTY', 'GWSN', 'Song Ji Eun', 'JEONG SEWOON',\n",
       "       'CIX', 'ASTRO', 'NATURE', 'Punch', 'VICTON', 'Sik-K',\n",
       "       'KIM WOO SEOK', \"NU'EST\", 'BOL4', 'CRAVITY', 'Jay Park', 'RAVI',\n",
       "       'ONF', 'H&D', 'MCND', 'DONGKIZ', 'PENTAGON', 'SPECTRUM',\n",
       "       'THE BOYZ', 'Golden Child', 'Black6ix', 'DKB', 'WE IN THE ZONE',\n",
       "       'SUPER JUNIOR', 'iKON', 'SECHSKIES', 'ENOi', 'Younha',\n",
       "       'CODE KUNST', 'Jessi', 'YEZI', 'Stella Jang', 'BoA', 'Yoon Mirae',\n",
       "       'Kim Yeonji', 'saevom', 'god', 'Fin.K.L', 'SHINHWA', 'S.E.S.',\n",
       "       'SHINee', 'Wonder Girls', 'BIGBANG', 'Beast', 'After School',\n",
       "       'SISTAR', 'T-ARA', 'CNBLUE', 'f(x)', 'KARA', '4Minute', 'INFINITE',\n",
       "       'SS501', 'MBLAQ', 'TVXQ!', 'B.A.P', '2NE1', '2AM',\n",
       "       \"Girls' Generation\", 'B1A4', 'TEEN TOP', 'AOA', 'FTISLAND',\n",
       "       'Block B', 'Secret', 'MAMAMOO', 'RM', 'JENNIE', 'ATEEZ', 'j-hope',\n",
       "       'DEAN', 'NCT', 'EXID', 'TAEMIN', 'Wanna One', 'CLC', 'K/DA',\n",
       "       'miss A', 'Epik High', 'Orange Caramel', \"Girl's Day\", 'VIXX',\n",
       "       'Crush', 'RAINBOW', 'U-KISS', 'Ailee', 'HyunA', 'Brown Eyed Girls',\n",
       "       'Trouble Maker', \"LADIES' CODE\", 'Gain', 'SE7EN', 'GD&TOP'],\n",
       "      dtype=object)"
      ]
     },
     "execution_count": 6,
     "metadata": {},
     "output_type": "execute_result"
    }
   ],
   "source": [
    "# getting unique list of all artists \n",
    "hypo_df['artists'].unique()"
   ]
  },
  {
   "cell_type": "code",
   "execution_count": 7,
   "metadata": {},
   "outputs": [],
   "source": [
    "def gender_classification(artist):\n",
    "    '''\n",
    "    categorizes artists based on gender\n",
    "    \n",
    "    '''\n",
    "    male = ['EXO-SC', 'EXO', 'BAEKHYUN', 'EXO-K', 'CHANYEOL', 'EXO-CBX',\n",
    "            'SUHO', 'CHEN', 'XIUMIN', 'Stray Kids', 'SEVENTEEN', 'WOODZ',\n",
    "            'TOMORROW X TOGETHER', 'AB6IX', 'NCT DREAM', 'BTS', \n",
    "            'GOT7', 'NCT 127', 'DAY6', 'ZICO', 'iKON', 'WINNER', 'ONEUS',\n",
    "            'KANG DANIEL', 'ONG SEONG WU', 'PARK JI HOON', 'Eric Nam', \n",
    "            'Park Kyung', 'Gaho', 'Kim Sung Kyu', 'BEN', 'SHAUN', \n",
    "            'PARK WON', 'THE MAN BLK', 'Paul Kim', 'Sam Kim', 'Zion.T', \n",
    "            'HA SUNG WOON', 'OVAN', 'Huh Gak', 'J_ust', 'A.C.E', 'WayV', \n",
    "            'TOO', 'ONEWE', 'Wanna One', 'JEONG SEWOON', 'CIX', 'ASTRO', \n",
    "            'VICTON', 'Sik-K', 'KIM WOO SEOK', \"NU'EST\", 'CRAVITY', 'Jay Park', \n",
    "            'RAVI', 'ONF', 'H&D', 'MCND', 'DONGKIZ', 'PENTAGON', 'SPECTRUM', \n",
    "            'THE BOYZ', 'Golden Child', 'Black6ix', 'DKB', 'WE IN THE ZONE', \n",
    "            'SUPER JUNIOR', 'SECHSKIES', 'ENOi', 'NCT', 'CODE KUNST', \n",
    "            'god', 'SHINHWA', 'SHINee', 'BIGBANG', 'Beast', 'CNBLUE', \n",
    "            'INFINITE', 'SS501', 'MBLAQ', 'TVXQ!', 'B.A.P', '2AM', 'B1A4', \n",
    "            'TEEN TOP', 'AOA', 'FTISLAND', 'Block B', 'RM', 'ATEEZ', 'j-hope', \n",
    "            'DEAN', 'TAEMIN', 'Epik High', 'VIXX', 'Crush', 'U-KISS', 'SE7EN', 'GD&TOP', \n",
    "            'Kim Feel', 'Monsta X']\n",
    "    female = ['BLACKPINK', 'Red Velvet - IRENE & SEULGI', 'GFRIEND', \n",
    "              'SUNMI', 'TWICE', 'Hwa Sa', 'ITZY', 'CHUNG HA', '(G)I-DLE', \n",
    "              'EVERGLOW', 'IZ*ONE', 'OH MY GIRL', 'IU', 'Apink', \n",
    "              'Red Velvet', 'Solar', 'DREAMCATCHER', 'LOONA', 'TAEYEON', \n",
    "              'BOL4', 'MOMOLAND', 'Davichi', 'Gummy', 'HEIZE', 'SOYOU', \n",
    "              'Baek Ji Young', 'Lee So Ra', 'CHEEZE', 'SURAN', 'AleXa', \n",
    "              'Weki Meki', 'VERIVERY', 'WJSN', 'BVNDIT', 'NATTY', 'GWSN', \n",
    "              'NATURE', 'Punch', 'Younha', 'Jessi', 'YEZI', 'Stella Jang', \n",
    "              'BoA', 'Yoon Mirae', 'Kim Yeonji', 'saevom', 'SOMI', 'Fin.K.L', \n",
    "              'S.E.S.', 'Wonder Girls', 'After School', 'SISTAR', 'T-ARA', \n",
    "              'f(x)', 'KARA', '4Minute', '2NE1', \"Girls' Generation\", 'Secret', \n",
    "              'MAMAMOO', 'JENNIE', 'EXID', 'CLC', 'K/DA', 'LEE HI', 'miss A', \n",
    "              'Orange Caramel', \"Girl's Day\", 'RAINBOW', 'Ailee', 'HyunA', \n",
    "              'Brown Eyed Girls', \"LADIES' CODE\", 'Gain', 'Kim Na Young', \n",
    "              'Sondia', 'HYO', 'Song Ji Eun']\n",
    "    \n",
    "    if artist in male:\n",
    "        return 'male'\n",
    "    elif artist in female:\n",
    "        return 'female'\n",
    "    else:\n",
    "        return 'co-ed'"
   ]
  },
  {
   "cell_type": "code",
   "execution_count": 8,
   "metadata": {},
   "outputs": [],
   "source": [
    "# applying gender classification onto artists column for later use in hypothesis test\n",
    "hypo_df['gender'] = hypo_df['artists'].apply(lambda x: gender_classification(x))"
   ]
  },
  {
   "cell_type": "code",
   "execution_count": 9,
   "metadata": {},
   "outputs": [
    {
     "data": {
      "text/html": [
       "<div>\n",
       "<style scoped>\n",
       "    .dataframe tbody tr th:only-of-type {\n",
       "        vertical-align: middle;\n",
       "    }\n",
       "\n",
       "    .dataframe tbody tr th {\n",
       "        vertical-align: top;\n",
       "    }\n",
       "\n",
       "    .dataframe thead th {\n",
       "        text-align: right;\n",
       "    }\n",
       "</style>\n",
       "<table border=\"1\" class=\"dataframe\">\n",
       "  <thead>\n",
       "    <tr style=\"text-align: right;\">\n",
       "      <th></th>\n",
       "      <th>artists</th>\n",
       "      <th>name</th>\n",
       "      <th>popularity</th>\n",
       "      <th>gender</th>\n",
       "    </tr>\n",
       "  </thead>\n",
       "  <tbody>\n",
       "    <tr>\n",
       "      <td>0</td>\n",
       "      <td>EXO-SC</td>\n",
       "      <td>1 Billion Views</td>\n",
       "      <td>71</td>\n",
       "      <td>male</td>\n",
       "    </tr>\n",
       "    <tr>\n",
       "      <td>1</td>\n",
       "      <td>EXO-SC</td>\n",
       "      <td>Telephone</td>\n",
       "      <td>61</td>\n",
       "      <td>male</td>\n",
       "    </tr>\n",
       "    <tr>\n",
       "      <td>2</td>\n",
       "      <td>EXO-SC</td>\n",
       "      <td>What a life</td>\n",
       "      <td>61</td>\n",
       "      <td>male</td>\n",
       "    </tr>\n",
       "    <tr>\n",
       "      <td>3</td>\n",
       "      <td>EXO-SC</td>\n",
       "      <td>On Me</td>\n",
       "      <td>61</td>\n",
       "      <td>male</td>\n",
       "    </tr>\n",
       "    <tr>\n",
       "      <td>4</td>\n",
       "      <td>EXO-SC</td>\n",
       "      <td>Nothin’</td>\n",
       "      <td>61</td>\n",
       "      <td>male</td>\n",
       "    </tr>\n",
       "  </tbody>\n",
       "</table>\n",
       "</div>"
      ],
      "text/plain": [
       "  artists             name  popularity gender\n",
       "0  EXO-SC  1 Billion Views          71   male\n",
       "1  EXO-SC        Telephone          61   male\n",
       "2  EXO-SC      What a life          61   male\n",
       "3  EXO-SC            On Me          61   male\n",
       "4  EXO-SC          Nothin’          61   male"
      ]
     },
     "execution_count": 9,
     "metadata": {},
     "output_type": "execute_result"
    }
   ],
   "source": [
    "hypo_df.head(5)"
   ]
  },
  {
   "cell_type": "markdown",
   "metadata": {},
   "source": [
    "#### Univariate Analysis"
   ]
  },
  {
   "cell_type": "code",
   "execution_count": 10,
   "metadata": {},
   "outputs": [
    {
     "data": {
      "text/plain": [
       "male      964\n",
       "female    715\n",
       "co-ed      40\n",
       "Name: gender, dtype: int64"
      ]
     },
     "execution_count": 10,
     "metadata": {},
     "output_type": "execute_result"
    }
   ],
   "source": [
    "hypo_df['gender'].value_counts()"
   ]
  },
  {
   "cell_type": "code",
   "execution_count": 11,
   "metadata": {},
   "outputs": [
    {
     "data": {
      "text/plain": [
       "mean    48.228040\n",
       "std     13.283613\n",
       "min      0.000000\n",
       "max     89.000000\n",
       "Name: popularity, dtype: float64"
      ]
     },
     "execution_count": 11,
     "metadata": {},
     "output_type": "execute_result"
    }
   ],
   "source": [
    "# average popularity\n",
    "hypo_df['popularity'].agg(['mean', 'std', 'min', 'max'])"
   ]
  },
  {
   "cell_type": "code",
   "execution_count": 12,
   "metadata": {},
   "outputs": [
    {
     "data": {
      "text/plain": [
       "Text(0.5, 1.0, 'distribution of popularity values')"
      ]
     },
     "execution_count": 12,
     "metadata": {},
     "output_type": "execute_result"
    },
    {
     "data": {
      "image/png": "[encoded data removed]",
      "text/plain": [
       "<Figure size 432x288 with 1 Axes>"
      ]
     },
     "metadata": {
      "image/png": {
       "height": 277,
       "width": 385
      },
      "needs_background": "light"
     },
     "output_type": "display_data"
    }
   ],
   "source": [
    "# normal distribution \n",
    "sns.distplot(hypo_df['popularity']).set_title('distribution of popularity values')"
   ]
  },
  {
   "cell_type": "markdown",
   "metadata": {},
   "source": [
    "#### Bivariate Analysis"
   ]
  },
  {
   "cell_type": "code",
   "execution_count": 13,
   "metadata": {},
   "outputs": [],
   "source": [
    "# separating artists by male and female\n",
    "male_groups = hypo_df[hypo_df['gender'] == 'male']['popularity']\n",
    "female_groups = hypo_df[hypo_df['gender'] == 'female']['popularity']"
   ]
  },
  {
   "cell_type": "code",
   "execution_count": 14,
   "metadata": {},
   "outputs": [
    {
     "data": {
      "image/png": "[encoded data removed]",
      "text/plain": [
       "<Figure size 432x288 with 1 Axes>"
      ]
     },
     "metadata": {
      "image/png": {
       "height": 277,
       "width": 385
      },
      "needs_background": "light"
     },
     "output_type": "display_data"
    }
   ],
   "source": [
    "# plot comparision of male + female artists -> does not seem to vary that much\n",
    "sns.distplot(male_groups, label = 'male').set_title('distribution of popularity values')\n",
    "sns.distplot(female_groups, label = 'female')\n",
    "plt.legend()\n",
    "plt.show()"
   ]
  },
  {
   "cell_type": "code",
   "execution_count": 15,
   "metadata": {},
   "outputs": [
    {
     "data": {
      "text/plain": [
       "<matplotlib.axes._subplots.AxesSubplot at 0x1a26f0f550>"
      ]
     },
     "execution_count": 15,
     "metadata": {},
     "output_type": "execute_result"
    },
    {
     "data": {
      "image/png": "[encoded data removed]",
      "text/plain": [
       "<Figure size 432x288 with 1 Axes>"
      ]
     },
     "metadata": {
      "image/png": {
       "height": 261,
       "width": 382
      },
      "needs_background": "light"
     },
     "output_type": "display_data"
    }
   ],
   "source": [
    "# more outliers w/ low popularity values for male artists \n",
    "# varied outliers for female artists\n",
    "sns.boxplot(data=hypo_df, x='gender', y='popularity')"
   ]
  },
  {
   "cell_type": "markdown",
   "metadata": {},
   "source": [
    "#### Interesting Aggregates"
   ]
  },
  {
   "cell_type": "code",
   "execution_count": 16,
   "metadata": {},
   "outputs": [
    {
     "data": {
      "text/html": [
       "<div>\n",
       "<style scoped>\n",
       "    .dataframe tbody tr th:only-of-type {\n",
       "        vertical-align: middle;\n",
       "    }\n",
       "\n",
       "    .dataframe tbody tr th {\n",
       "        vertical-align: top;\n",
       "    }\n",
       "\n",
       "    .dataframe thead tr th {\n",
       "        text-align: left;\n",
       "    }\n",
       "\n",
       "    .dataframe thead tr:last-of-type th {\n",
       "        text-align: right;\n",
       "    }\n",
       "</style>\n",
       "<table border=\"1\" class=\"dataframe\">\n",
       "  <thead>\n",
       "    <tr>\n",
       "      <th></th>\n",
       "      <th colspan=\"4\" halign=\"left\">popularity</th>\n",
       "    </tr>\n",
       "    <tr>\n",
       "      <th></th>\n",
       "      <th>mean</th>\n",
       "      <th>std</th>\n",
       "      <th>min</th>\n",
       "      <th>max</th>\n",
       "    </tr>\n",
       "    <tr>\n",
       "      <th>gender</th>\n",
       "      <th></th>\n",
       "      <th></th>\n",
       "      <th></th>\n",
       "      <th></th>\n",
       "    </tr>\n",
       "  </thead>\n",
       "  <tbody>\n",
       "    <tr>\n",
       "      <td>co-ed</td>\n",
       "      <td>44.450000</td>\n",
       "      <td>12.882009</td>\n",
       "      <td>16</td>\n",
       "      <td>66</td>\n",
       "    </tr>\n",
       "    <tr>\n",
       "      <td>female</td>\n",
       "      <td>48.806993</td>\n",
       "      <td>13.367430</td>\n",
       "      <td>4</td>\n",
       "      <td>89</td>\n",
       "    </tr>\n",
       "    <tr>\n",
       "      <td>male</td>\n",
       "      <td>47.955394</td>\n",
       "      <td>13.216430</td>\n",
       "      <td>0</td>\n",
       "      <td>82</td>\n",
       "    </tr>\n",
       "  </tbody>\n",
       "</table>\n",
       "</div>"
      ],
      "text/plain": [
       "       popularity                   \n",
       "             mean        std min max\n",
       "gender                              \n",
       "co-ed   44.450000  12.882009  16  66\n",
       "female  48.806993  13.367430   4  89\n",
       "male    47.955394  13.216430   0  82"
      ]
     },
     "execution_count": 16,
     "metadata": {},
     "output_type": "execute_result"
    }
   ],
   "source": [
    "hypo_df.groupby('gender').agg(['mean', 'std', 'min', 'max'])"
   ]
  },
  {
   "cell_type": "markdown",
   "metadata": {},
   "source": [
    "### Assessment of Missingness"
   ]
  },
  {
   "cell_type": "code",
   "execution_count": 17,
   "metadata": {},
   "outputs": [
    {
     "name": "stdout",
     "output_type": "stream",
     "text": [
      "Number Missing in Artists: 0\n",
      "Number Missing in Popularity: 0\n"
     ]
    }
   ],
   "source": [
    "print('Number Missing in Artists: ' + str(hypo_df['artists'].isna().sum()))\n",
    "print('Number Missing in Popularity: ' + str(hypo_df['popularity'].isna().sum()))"
   ]
  },
  {
   "cell_type": "code",
   "execution_count": 18,
   "metadata": {},
   "outputs": [
    {
     "data": {
      "text/plain": [
       "artists       0\n",
       "name          0\n",
       "popularity    0\n",
       "gender        0\n",
       "dtype: int64"
      ]
     },
     "execution_count": 18,
     "metadata": {},
     "output_type": "execute_result"
    }
   ],
   "source": [
    "hypo_df.isna().sum()"
   ]
  },
  {
   "cell_type": "markdown",
   "metadata": {},
   "source": [
    "### Hypothesis Test"
   ]
  },
  {
   "cell_type": "code",
   "execution_count": 19,
   "metadata": {},
   "outputs": [],
   "source": [
    "#getting all groups/artists whose genders purely male or female or in other words, co-ed groups are not included\n",
    "mf_only = hypo_df[hypo_df['gender'] != 'co-ed']"
   ]
  },
  {
   "cell_type": "code",
   "execution_count": 20,
   "metadata": {},
   "outputs": [
    {
     "name": "stdout",
     "output_type": "stream",
     "text": [
      "0.851598816121637\n"
     ]
    }
   ],
   "source": [
    "# observed val\n",
    "obs = abs(mf_only.groupby('gender').mean().diff().iloc[1][0])\n",
    "print(obs)"
   ]
  },
  {
   "cell_type": "code",
   "execution_count": 21,
   "metadata": {},
   "outputs": [],
   "source": [
    "# conducting hypothesis test\n",
    "mean_diff = []\n",
    "\n",
    "for x in range(10000):\n",
    "    shuff_col = mf_only['popularity'].sample(replace=False, frac=1).reset_index(drop=True)\n",
    "    \n",
    "    shuffled = mf_only.assign(**{'popularity': shuff_col})\n",
    "    \n",
    "    gp_means = shuffled.groupby('gender').mean().loc[:, 'popularity']\n",
    "    \n",
    "    diff = abs(gp_means.diff().iloc[-1])\n",
    "    \n",
    "    mean_diff.append(diff)"
   ]
  },
  {
   "cell_type": "code",
   "execution_count": 22,
   "metadata": {},
   "outputs": [
    {
     "name": "stdout",
     "output_type": "stream",
     "text": [
      "P-Value: 0.2027\n"
     ]
    }
   ],
   "source": [
    "print('P-Value: ' + str(np.mean(mean_diff >= obs)))"
   ]
  },
  {
   "cell_type": "code",
   "execution_count": 23,
   "metadata": {},
   "outputs": [
    {
     "data": {
      "text/plain": [
       "<matplotlib.collections.PathCollection at 0x1a26fb8f50>"
      ]
     },
     "execution_count": 23,
     "metadata": {},
     "output_type": "execute_result"
    },
    {
     "data": {
      "image/png": "[encoded data removed]",
      "text/plain": [
       "<Figure size 432x288 with 1 Axes>"
      ]
     },
     "metadata": {
      "image/png": {
       "height": 248,
       "width": 395
      },
      "needs_background": "light"
     },
     "output_type": "display_data"
    }
   ],
   "source": [
    "# fail to reject null \n",
    "mean_diff = pd.Series(mean_diff)\n",
    "mean_diff.plot(kind='hist')\n",
    "plt.scatter([obs], [0], color='r')"
   ]
  },
  {
   "cell_type": "markdown",
   "metadata": {},
   "source": [
    "### Baseline Model"
   ]
  },
  {
   "cell_type": "code",
   "execution_count": 24,
   "metadata": {},
   "outputs": [],
   "source": [
    "#imports\n",
    "from sklearn.preprocessing import OneHotEncoder\n",
    "from sklearn.linear_model import LinearRegression\n",
    "from sklearn.pipeline import Pipeline\n",
    "import sklearn.preprocessing as pp\n",
    "from sklearn.model_selection import train_test_split"
   ]
  },
  {
   "cell_type": "code",
   "execution_count": 25,
   "metadata": {},
   "outputs": [
    {
     "data": {
      "text/html": [
       "<div>\n",
       "<style scoped>\n",
       "    .dataframe tbody tr th:only-of-type {\n",
       "        vertical-align: middle;\n",
       "    }\n",
       "\n",
       "    .dataframe tbody tr th {\n",
       "        vertical-align: top;\n",
       "    }\n",
       "\n",
       "    .dataframe thead th {\n",
       "        text-align: right;\n",
       "    }\n",
       "</style>\n",
       "<table border=\"1\" class=\"dataframe\">\n",
       "  <thead>\n",
       "    <tr style=\"text-align: right;\">\n",
       "      <th></th>\n",
       "      <th>artists</th>\n",
       "      <th>duration_ms</th>\n",
       "      <th>name</th>\n",
       "      <th>popularity</th>\n",
       "      <th>danceability</th>\n",
       "      <th>energy</th>\n",
       "      <th>key</th>\n",
       "      <th>loudness</th>\n",
       "      <th>mode</th>\n",
       "      <th>speechiness</th>\n",
       "      <th>acousticness</th>\n",
       "      <th>instrumentalness</th>\n",
       "      <th>liveness</th>\n",
       "      <th>valence</th>\n",
       "      <th>tempo</th>\n",
       "      <th>time_signature</th>\n",
       "      <th>gender</th>\n",
       "    </tr>\n",
       "  </thead>\n",
       "  <tbody>\n",
       "    <tr>\n",
       "      <td>0</td>\n",
       "      <td>EXO-SC</td>\n",
       "      <td>209253</td>\n",
       "      <td>1 Billion Views</td>\n",
       "      <td>71</td>\n",
       "      <td>0.735</td>\n",
       "      <td>0.727</td>\n",
       "      <td>0</td>\n",
       "      <td>-2.837</td>\n",
       "      <td>0</td>\n",
       "      <td>0.0364</td>\n",
       "      <td>0.3620</td>\n",
       "      <td>0.000000</td>\n",
       "      <td>0.0997</td>\n",
       "      <td>0.612</td>\n",
       "      <td>111.928</td>\n",
       "      <td>4</td>\n",
       "      <td>male</td>\n",
       "    </tr>\n",
       "    <tr>\n",
       "      <td>1</td>\n",
       "      <td>EXO-SC</td>\n",
       "      <td>195613</td>\n",
       "      <td>Telephone</td>\n",
       "      <td>61</td>\n",
       "      <td>0.817</td>\n",
       "      <td>0.640</td>\n",
       "      <td>5</td>\n",
       "      <td>-2.927</td>\n",
       "      <td>0</td>\n",
       "      <td>0.0487</td>\n",
       "      <td>0.2320</td>\n",
       "      <td>0.000000</td>\n",
       "      <td>0.2040</td>\n",
       "      <td>0.772</td>\n",
       "      <td>89.970</td>\n",
       "      <td>4</td>\n",
       "      <td>male</td>\n",
       "    </tr>\n",
       "    <tr>\n",
       "      <td>2</td>\n",
       "      <td>EXO-SC</td>\n",
       "      <td>203866</td>\n",
       "      <td>What a life</td>\n",
       "      <td>61</td>\n",
       "      <td>0.862</td>\n",
       "      <td>0.782</td>\n",
       "      <td>5</td>\n",
       "      <td>-3.811</td>\n",
       "      <td>0</td>\n",
       "      <td>0.1250</td>\n",
       "      <td>0.3010</td>\n",
       "      <td>0.000000</td>\n",
       "      <td>0.1430</td>\n",
       "      <td>0.847</td>\n",
       "      <td>135.029</td>\n",
       "      <td>4</td>\n",
       "      <td>male</td>\n",
       "    </tr>\n",
       "    <tr>\n",
       "      <td>3</td>\n",
       "      <td>EXO-SC</td>\n",
       "      <td>174720</td>\n",
       "      <td>On Me</td>\n",
       "      <td>61</td>\n",
       "      <td>0.693</td>\n",
       "      <td>0.866</td>\n",
       "      <td>6</td>\n",
       "      <td>-2.735</td>\n",
       "      <td>0</td>\n",
       "      <td>0.2290</td>\n",
       "      <td>0.0421</td>\n",
       "      <td>0.000002</td>\n",
       "      <td>0.2210</td>\n",
       "      <td>0.691</td>\n",
       "      <td>97.048</td>\n",
       "      <td>4</td>\n",
       "      <td>male</td>\n",
       "    </tr>\n",
       "    <tr>\n",
       "      <td>4</td>\n",
       "      <td>EXO-SC</td>\n",
       "      <td>206293</td>\n",
       "      <td>Nothin’</td>\n",
       "      <td>61</td>\n",
       "      <td>0.471</td>\n",
       "      <td>0.755</td>\n",
       "      <td>9</td>\n",
       "      <td>-1.215</td>\n",
       "      <td>1</td>\n",
       "      <td>0.0483</td>\n",
       "      <td>0.4390</td>\n",
       "      <td>0.000000</td>\n",
       "      <td>0.1040</td>\n",
       "      <td>0.178</td>\n",
       "      <td>166.134</td>\n",
       "      <td>5</td>\n",
       "      <td>male</td>\n",
       "    </tr>\n",
       "  </tbody>\n",
       "</table>\n",
       "</div>"
      ],
      "text/plain": [
       "  artists  duration_ms             name  popularity  danceability  energy  \\\n",
       "0  EXO-SC       209253  1 Billion Views          71         0.735   0.727   \n",
       "1  EXO-SC       195613        Telephone          61         0.817   0.640   \n",
       "2  EXO-SC       203866      What a life          61         0.862   0.782   \n",
       "3  EXO-SC       174720            On Me          61         0.693   0.866   \n",
       "4  EXO-SC       206293          Nothin’          61         0.471   0.755   \n",
       "\n",
       "   key  loudness  mode  speechiness  acousticness  instrumentalness  liveness  \\\n",
       "0    0    -2.837     0       0.0364        0.3620          0.000000    0.0997   \n",
       "1    5    -2.927     0       0.0487        0.2320          0.000000    0.2040   \n",
       "2    5    -3.811     0       0.1250        0.3010          0.000000    0.1430   \n",
       "3    6    -2.735     0       0.2290        0.0421          0.000002    0.2210   \n",
       "4    9    -1.215     1       0.0483        0.4390          0.000000    0.1040   \n",
       "\n",
       "   valence    tempo  time_signature gender  \n",
       "0    0.612  111.928               4   male  \n",
       "1    0.772   89.970               4   male  \n",
       "2    0.847  135.029               4   male  \n",
       "3    0.691   97.048               4   male  \n",
       "4    0.178  166.134               5   male  "
      ]
     },
     "execution_count": 25,
     "metadata": {},
     "output_type": "execute_result"
    }
   ],
   "source": [
    "# creating seperate df for models\n",
    "mdl_df = df.drop(columns=['album', 'disc_number', 'explicit', 'external_ids', \n",
    "                 'external_urls', 'href', 'is_local', 'is_playable', \n",
    "                 'preview_url', 'track_number', 'type', 'uri',\n",
    "                 'duration_ms.1', 'id', 'artist_uri'])\n",
    "mdl_df['gender'] = mdl_df['artists'].apply(lambda x: gender_classification(x))\n",
    "mdl_df = mdl_df[mdl_df['gender'] != 'co-ed']\n",
    "mdl_df.head(5)"
   ]
  },
  {
   "cell_type": "code",
   "execution_count": 26,
   "metadata": {},
   "outputs": [],
   "source": [
    "# baseline model df\n",
    "base_df = mdl_df.drop(columns=['name', 'energy', 'key', 'loudness', \n",
    "                               'mode', 'speechiness', 'acousticness', \n",
    "                               'instrumentalness', 'liveness', 'valence', 'tempo', 'time_signature'])"
   ]
  },
  {
   "cell_type": "code",
   "execution_count": 27,
   "metadata": {},
   "outputs": [
    {
     "data": {
      "text/plain": [
       "artists         0\n",
       "duration_ms     0\n",
       "popularity      0\n",
       "danceability    0\n",
       "gender          0\n",
       "dtype: int64"
      ]
     },
     "execution_count": 27,
     "metadata": {},
     "output_type": "execute_result"
    }
   ],
   "source": [
    "base_df.isna().sum()"
   ]
  },
  {
   "cell_type": "code",
   "execution_count": 28,
   "metadata": {},
   "outputs": [
    {
     "data": {
      "text/html": [
       "<div>\n",
       "<style scoped>\n",
       "    .dataframe tbody tr th:only-of-type {\n",
       "        vertical-align: middle;\n",
       "    }\n",
       "\n",
       "    .dataframe tbody tr th {\n",
       "        vertical-align: top;\n",
       "    }\n",
       "\n",
       "    .dataframe thead th {\n",
       "        text-align: right;\n",
       "    }\n",
       "</style>\n",
       "<table border=\"1\" class=\"dataframe\">\n",
       "  <thead>\n",
       "    <tr style=\"text-align: right;\">\n",
       "      <th></th>\n",
       "      <th>artists</th>\n",
       "      <th>duration_ms</th>\n",
       "      <th>popularity</th>\n",
       "      <th>danceability</th>\n",
       "      <th>gender</th>\n",
       "    </tr>\n",
       "  </thead>\n",
       "  <tbody>\n",
       "    <tr>\n",
       "      <td>0</td>\n",
       "      <td>EXO-SC</td>\n",
       "      <td>209253</td>\n",
       "      <td>71</td>\n",
       "      <td>0.735</td>\n",
       "      <td>male</td>\n",
       "    </tr>\n",
       "    <tr>\n",
       "      <td>1</td>\n",
       "      <td>EXO-SC</td>\n",
       "      <td>195613</td>\n",
       "      <td>61</td>\n",
       "      <td>0.817</td>\n",
       "      <td>male</td>\n",
       "    </tr>\n",
       "    <tr>\n",
       "      <td>2</td>\n",
       "      <td>EXO-SC</td>\n",
       "      <td>203866</td>\n",
       "      <td>61</td>\n",
       "      <td>0.862</td>\n",
       "      <td>male</td>\n",
       "    </tr>\n",
       "    <tr>\n",
       "      <td>3</td>\n",
       "      <td>EXO-SC</td>\n",
       "      <td>174720</td>\n",
       "      <td>61</td>\n",
       "      <td>0.693</td>\n",
       "      <td>male</td>\n",
       "    </tr>\n",
       "    <tr>\n",
       "      <td>4</td>\n",
       "      <td>EXO-SC</td>\n",
       "      <td>206293</td>\n",
       "      <td>61</td>\n",
       "      <td>0.471</td>\n",
       "      <td>male</td>\n",
       "    </tr>\n",
       "  </tbody>\n",
       "</table>\n",
       "</div>"
      ],
      "text/plain": [
       "  artists  duration_ms  popularity  danceability gender\n",
       "0  EXO-SC       209253          71         0.735   male\n",
       "1  EXO-SC       195613          61         0.817   male\n",
       "2  EXO-SC       203866          61         0.862   male\n",
       "3  EXO-SC       174720          61         0.693   male\n",
       "4  EXO-SC       206293          61         0.471   male"
      ]
     },
     "execution_count": 28,
     "metadata": {},
     "output_type": "execute_result"
    }
   ],
   "source": [
    "base_df.head(5)"
   ]
  },
  {
   "cell_type": "code",
   "execution_count": 29,
   "metadata": {},
   "outputs": [],
   "source": [
    "#for train test split later on\n",
    "X = base_df.drop(columns='popularity')\n",
    "Y = base_df['popularity']\n",
    "X_train, X_test, y_train, y_test = train_test_split(X, Y, test_size=0.25)"
   ]
  },
  {
   "cell_type": "code",
   "execution_count": 30,
   "metadata": {},
   "outputs": [],
   "source": [
    "# baseline model pipeline w/ one-hot \n",
    "base_pl = Pipeline(steps=[\n",
    "    ('one-hot', pp.OneHotEncoder(handle_unknown='ignore')), #for categorial columns \n",
    "    ('lin-reg', LinearRegression())\n",
    "])"
   ]
  },
  {
   "cell_type": "code",
   "execution_count": 31,
   "metadata": {},
   "outputs": [
    {
     "name": "stdout",
     "output_type": "stream",
     "text": [
      "[56.70496738 57.99361506 57.0438927  45.92096021 41.57267942]\n"
     ]
    }
   ],
   "source": [
    "base_pl.fit(X_train, y_train)\n",
    "preds = base_pl.predict(X_test)\n",
    "print(preds[:5])"
   ]
  },
  {
   "cell_type": "code",
   "execution_count": 32,
   "metadata": {},
   "outputs": [],
   "source": [
    "# evaluating baseline model by getting R^2 vals\n",
    "base_r2s = []\n",
    "base_rmses = []\n",
    "\n",
    "for x in range(50):\n",
    "    X_train, X_test, y_train, y_test = train_test_split(X, Y, test_size=0.25)\n",
    "    base_pl.fit(X_train, y_train)\n",
    "    preds = base_pl.predict(X_test)\n",
    "\n",
    "    rmse = np.sqrt(np.mean((preds - y_test)**2))\n",
    "    base_rmses.append(rmse)\n",
    "\n",
    "    r2 = base_pl.score(X_test, y_test)\n",
    "    base_r2s.append(r2)"
   ]
  },
  {
   "cell_type": "code",
   "execution_count": 33,
   "metadata": {},
   "outputs": [
    {
     "name": "stdout",
     "output_type": "stream",
     "text": [
      "RMSE Mean: 8.59350522652325\n",
      "Mean of R^2 Vals: 0.5772708326685752\n"
     ]
    },
    {
     "data": {
      "image/png": "[encoded data removed]",
      "text/plain": [
       "<Figure size 432x288 with 1 Axes>"
      ]
     },
     "metadata": {
      "image/png": {
       "height": 248,
       "width": 385
      },
      "needs_background": "light"
     },
     "output_type": "display_data"
    }
   ],
   "source": [
    "# low RMSE mean\n",
    "base_df = pd.DataFrame(data=base_r2s)\n",
    "sns.scatterplot(data=base_df)\n",
    "\n",
    "print('RMSE Mean: ' + str(np.mean(base_rmses)))\n",
    "print('Mean of R^2 Vals: ' + str(base_df.mean()[0])) # mean of scores/R^2 values from above"
   ]
  },
  {
   "cell_type": "markdown",
   "metadata": {},
   "source": [
    "### Final Model"
   ]
  },
  {
   "cell_type": "code",
   "execution_count": 34,
   "metadata": {},
   "outputs": [],
   "source": [
    "#imports\n",
    "from sklearn.preprocessing import FunctionTransformer\n",
    "from sklearn.preprocessing import Binarizer\n",
    "from sklearn.compose import ColumnTransformer\n",
    "from sklearn.model_selection import cross_val_score"
   ]
  },
  {
   "cell_type": "code",
   "execution_count": 35,
   "metadata": {},
   "outputs": [
    {
     "data": {
      "text/html": [
       "<div>\n",
       "<style scoped>\n",
       "    .dataframe tbody tr th:only-of-type {\n",
       "        vertical-align: middle;\n",
       "    }\n",
       "\n",
       "    .dataframe tbody tr th {\n",
       "        vertical-align: top;\n",
       "    }\n",
       "\n",
       "    .dataframe thead th {\n",
       "        text-align: right;\n",
       "    }\n",
       "</style>\n",
       "<table border=\"1\" class=\"dataframe\">\n",
       "  <thead>\n",
       "    <tr style=\"text-align: right;\">\n",
       "      <th></th>\n",
       "      <th>artists</th>\n",
       "      <th>duration_ms</th>\n",
       "      <th>name</th>\n",
       "      <th>popularity</th>\n",
       "      <th>danceability</th>\n",
       "      <th>energy</th>\n",
       "      <th>key</th>\n",
       "      <th>loudness</th>\n",
       "      <th>mode</th>\n",
       "      <th>speechiness</th>\n",
       "      <th>acousticness</th>\n",
       "      <th>instrumentalness</th>\n",
       "      <th>liveness</th>\n",
       "      <th>valence</th>\n",
       "      <th>tempo</th>\n",
       "      <th>time_signature</th>\n",
       "      <th>gender</th>\n",
       "    </tr>\n",
       "  </thead>\n",
       "  <tbody>\n",
       "    <tr>\n",
       "      <td>0</td>\n",
       "      <td>EXO-SC</td>\n",
       "      <td>209253</td>\n",
       "      <td>1 Billion Views</td>\n",
       "      <td>71</td>\n",
       "      <td>0.735</td>\n",
       "      <td>0.727</td>\n",
       "      <td>0</td>\n",
       "      <td>-2.837</td>\n",
       "      <td>0</td>\n",
       "      <td>0.0364</td>\n",
       "      <td>0.3620</td>\n",
       "      <td>0.000000</td>\n",
       "      <td>0.0997</td>\n",
       "      <td>0.612</td>\n",
       "      <td>111.928</td>\n",
       "      <td>4</td>\n",
       "      <td>male</td>\n",
       "    </tr>\n",
       "    <tr>\n",
       "      <td>1</td>\n",
       "      <td>EXO-SC</td>\n",
       "      <td>195613</td>\n",
       "      <td>Telephone</td>\n",
       "      <td>61</td>\n",
       "      <td>0.817</td>\n",
       "      <td>0.640</td>\n",
       "      <td>5</td>\n",
       "      <td>-2.927</td>\n",
       "      <td>0</td>\n",
       "      <td>0.0487</td>\n",
       "      <td>0.2320</td>\n",
       "      <td>0.000000</td>\n",
       "      <td>0.2040</td>\n",
       "      <td>0.772</td>\n",
       "      <td>89.970</td>\n",
       "      <td>4</td>\n",
       "      <td>male</td>\n",
       "    </tr>\n",
       "    <tr>\n",
       "      <td>2</td>\n",
       "      <td>EXO-SC</td>\n",
       "      <td>203866</td>\n",
       "      <td>What a life</td>\n",
       "      <td>61</td>\n",
       "      <td>0.862</td>\n",
       "      <td>0.782</td>\n",
       "      <td>5</td>\n",
       "      <td>-3.811</td>\n",
       "      <td>0</td>\n",
       "      <td>0.1250</td>\n",
       "      <td>0.3010</td>\n",
       "      <td>0.000000</td>\n",
       "      <td>0.1430</td>\n",
       "      <td>0.847</td>\n",
       "      <td>135.029</td>\n",
       "      <td>4</td>\n",
       "      <td>male</td>\n",
       "    </tr>\n",
       "    <tr>\n",
       "      <td>3</td>\n",
       "      <td>EXO-SC</td>\n",
       "      <td>174720</td>\n",
       "      <td>On Me</td>\n",
       "      <td>61</td>\n",
       "      <td>0.693</td>\n",
       "      <td>0.866</td>\n",
       "      <td>6</td>\n",
       "      <td>-2.735</td>\n",
       "      <td>0</td>\n",
       "      <td>0.2290</td>\n",
       "      <td>0.0421</td>\n",
       "      <td>0.000002</td>\n",
       "      <td>0.2210</td>\n",
       "      <td>0.691</td>\n",
       "      <td>97.048</td>\n",
       "      <td>4</td>\n",
       "      <td>male</td>\n",
       "    </tr>\n",
       "    <tr>\n",
       "      <td>4</td>\n",
       "      <td>EXO-SC</td>\n",
       "      <td>206293</td>\n",
       "      <td>Nothin’</td>\n",
       "      <td>61</td>\n",
       "      <td>0.471</td>\n",
       "      <td>0.755</td>\n",
       "      <td>9</td>\n",
       "      <td>-1.215</td>\n",
       "      <td>1</td>\n",
       "      <td>0.0483</td>\n",
       "      <td>0.4390</td>\n",
       "      <td>0.000000</td>\n",
       "      <td>0.1040</td>\n",
       "      <td>0.178</td>\n",
       "      <td>166.134</td>\n",
       "      <td>5</td>\n",
       "      <td>male</td>\n",
       "    </tr>\n",
       "  </tbody>\n",
       "</table>\n",
       "</div>"
      ],
      "text/plain": [
       "  artists  duration_ms             name  popularity  danceability  energy  \\\n",
       "0  EXO-SC       209253  1 Billion Views          71         0.735   0.727   \n",
       "1  EXO-SC       195613        Telephone          61         0.817   0.640   \n",
       "2  EXO-SC       203866      What a life          61         0.862   0.782   \n",
       "3  EXO-SC       174720            On Me          61         0.693   0.866   \n",
       "4  EXO-SC       206293          Nothin’          61         0.471   0.755   \n",
       "\n",
       "   key  loudness  mode  speechiness  acousticness  instrumentalness  liveness  \\\n",
       "0    0    -2.837     0       0.0364        0.3620          0.000000    0.0997   \n",
       "1    5    -2.927     0       0.0487        0.2320          0.000000    0.2040   \n",
       "2    5    -3.811     0       0.1250        0.3010          0.000000    0.1430   \n",
       "3    6    -2.735     0       0.2290        0.0421          0.000002    0.2210   \n",
       "4    9    -1.215     1       0.0483        0.4390          0.000000    0.1040   \n",
       "\n",
       "   valence    tempo  time_signature gender  \n",
       "0    0.612  111.928               4   male  \n",
       "1    0.772   89.970               4   male  \n",
       "2    0.847  135.029               4   male  \n",
       "3    0.691   97.048               4   male  \n",
       "4    0.178  166.134               5   male  "
      ]
     },
     "execution_count": 35,
     "metadata": {},
     "output_type": "execute_result"
    }
   ],
   "source": [
    "mdl_df.head(5)"
   ]
  },
  {
   "cell_type": "code",
   "execution_count": 36,
   "metadata": {},
   "outputs": [
    {
     "data": {
      "text/html": [
       "<div>\n",
       "<style scoped>\n",
       "    .dataframe tbody tr th:only-of-type {\n",
       "        vertical-align: middle;\n",
       "    }\n",
       "\n",
       "    .dataframe tbody tr th {\n",
       "        vertical-align: top;\n",
       "    }\n",
       "\n",
       "    .dataframe thead th {\n",
       "        text-align: right;\n",
       "    }\n",
       "</style>\n",
       "<table border=\"1\" class=\"dataframe\">\n",
       "  <thead>\n",
       "    <tr style=\"text-align: right;\">\n",
       "      <th></th>\n",
       "      <th>artists</th>\n",
       "      <th>duration_ms</th>\n",
       "      <th>popularity</th>\n",
       "      <th>danceability</th>\n",
       "      <th>energy</th>\n",
       "      <th>valence</th>\n",
       "      <th>tempo</th>\n",
       "      <th>gender</th>\n",
       "    </tr>\n",
       "  </thead>\n",
       "  <tbody>\n",
       "    <tr>\n",
       "      <td>0</td>\n",
       "      <td>EXO-SC</td>\n",
       "      <td>209253</td>\n",
       "      <td>71</td>\n",
       "      <td>0.735</td>\n",
       "      <td>0.727</td>\n",
       "      <td>0.612</td>\n",
       "      <td>111.928</td>\n",
       "      <td>male</td>\n",
       "    </tr>\n",
       "    <tr>\n",
       "      <td>1</td>\n",
       "      <td>EXO-SC</td>\n",
       "      <td>195613</td>\n",
       "      <td>61</td>\n",
       "      <td>0.817</td>\n",
       "      <td>0.640</td>\n",
       "      <td>0.772</td>\n",
       "      <td>89.970</td>\n",
       "      <td>male</td>\n",
       "    </tr>\n",
       "    <tr>\n",
       "      <td>2</td>\n",
       "      <td>EXO-SC</td>\n",
       "      <td>203866</td>\n",
       "      <td>61</td>\n",
       "      <td>0.862</td>\n",
       "      <td>0.782</td>\n",
       "      <td>0.847</td>\n",
       "      <td>135.029</td>\n",
       "      <td>male</td>\n",
       "    </tr>\n",
       "    <tr>\n",
       "      <td>3</td>\n",
       "      <td>EXO-SC</td>\n",
       "      <td>174720</td>\n",
       "      <td>61</td>\n",
       "      <td>0.693</td>\n",
       "      <td>0.866</td>\n",
       "      <td>0.691</td>\n",
       "      <td>97.048</td>\n",
       "      <td>male</td>\n",
       "    </tr>\n",
       "    <tr>\n",
       "      <td>4</td>\n",
       "      <td>EXO-SC</td>\n",
       "      <td>206293</td>\n",
       "      <td>61</td>\n",
       "      <td>0.471</td>\n",
       "      <td>0.755</td>\n",
       "      <td>0.178</td>\n",
       "      <td>166.134</td>\n",
       "      <td>male</td>\n",
       "    </tr>\n",
       "  </tbody>\n",
       "</table>\n",
       "</div>"
      ],
      "text/plain": [
       "  artists  duration_ms  popularity  danceability  energy  valence    tempo  \\\n",
       "0  EXO-SC       209253          71         0.735   0.727    0.612  111.928   \n",
       "1  EXO-SC       195613          61         0.817   0.640    0.772   89.970   \n",
       "2  EXO-SC       203866          61         0.862   0.782    0.847  135.029   \n",
       "3  EXO-SC       174720          61         0.693   0.866    0.691   97.048   \n",
       "4  EXO-SC       206293          61         0.471   0.755    0.178  166.134   \n",
       "\n",
       "  gender  \n",
       "0   male  \n",
       "1   male  \n",
       "2   male  \n",
       "3   male  \n",
       "4   male  "
      ]
     },
     "execution_count": 36,
     "metadata": {},
     "output_type": "execute_result"
    }
   ],
   "source": [
    "# creating df for use on final model\n",
    "final_df = mdl_df.drop(columns=['name', 'key', 'loudness', 'mode', \n",
    "                       'speechiness', 'acousticness', 'instrumentalness', \n",
    "                       'liveness', 'time_signature'])\n",
    "final_df.head(5)"
   ]
  },
  {
   "cell_type": "code",
   "execution_count": 37,
   "metadata": {},
   "outputs": [],
   "source": [
    "# for train test split\n",
    "X = final_df.drop(columns='popularity')\n",
    "Y = final_df['popularity']"
   ]
  },
  {
   "cell_type": "code",
   "execution_count": 38,
   "metadata": {},
   "outputs": [],
   "source": [
    "# train test split for model selection\n",
    "X_train, X_test, y_train, y_test = train_test_split(X, Y, test_size=0.1)"
   ]
  },
  {
   "cell_type": "markdown",
   "metadata": {},
   "source": [
    "#### Model 1\n",
    "Model 1 consists of a Binarizer transformer on the Danceability, Energy, and Valence columns at a threshold of 0.5. "
   ]
  },
  {
   "cell_type": "code",
   "execution_count": 39,
   "metadata": {},
   "outputs": [],
   "source": [
    "onehot_pl = Pipeline(steps=[\n",
    "    ('one-hot', pp.OneHotEncoder(handle_unknown='ignore'))\n",
    "])\n",
    "\n",
    "binarizer_pl = Pipeline(steps=[\n",
    "    ('binarizer', pp.Binarizer(threshold=0.50))\n",
    "])\n",
    "\n",
    "preproc1 = ColumnTransformer(transformers=[\n",
    "    ('one-hot', onehot_pl, ['artists', 'gender']),\n",
    "    ('binarizer', binarizer_pl, ['danceability', 'energy', 'valence'])\n",
    "])\n",
    "\n",
    "model_1 = Pipeline(steps=[\n",
    " ('preprocessor', preproc1),\n",
    " ('lin-reg', LinearRegression())\n",
    "])"
   ]
  },
  {
   "cell_type": "code",
   "execution_count": 40,
   "metadata": {},
   "outputs": [
    {
     "name": "stdout",
     "output_type": "stream",
     "text": [
      "[0.70026348 0.71194393 0.70251694 0.63832287 0.56935748]\n",
      "Scores Mean: 0.6644809396522764\n"
     ]
    }
   ],
   "source": [
    "# average R^2\n",
    "scores = cross_val_score(model_1, X_train, y_train, cv=5)\n",
    "print(scores)\n",
    "print('Scores Mean: ' + str(scores.mean()))"
   ]
  },
  {
   "cell_type": "markdown",
   "metadata": {},
   "source": [
    "#### Model 2\n",
    "Model 2 improves upon Model 1 by getting the thresholds to the means of the columns instead of just 0.5."
   ]
  },
  {
   "cell_type": "code",
   "execution_count": 41,
   "metadata": {},
   "outputs": [
    {
     "name": "stdout",
     "output_type": "stream",
     "text": [
      "Danceability Mean: 0.6452829064919609\n",
      "Energy Mean: 0.7353276950565811\n",
      "Valence Mean: 0.5455309112567003\n"
     ]
    }
   ],
   "source": [
    "dance_mean = final_df['danceability'].mean()\n",
    "energy_mean = final_df['energy'].mean()\n",
    "valence_mean = final_df['valence'].mean()\n",
    "\n",
    "print('Danceability Mean: ' + str(dance_mean))\n",
    "print('Energy Mean: ' + str(energy_mean))\n",
    "print('Valence Mean: ' + str(valence_mean))"
   ]
  },
  {
   "cell_type": "code",
   "execution_count": 42,
   "metadata": {},
   "outputs": [],
   "source": [
    "onehot_pl = Pipeline(steps=[\n",
    "    ('one-hot', pp.OneHotEncoder(handle_unknown='ignore'))\n",
    "])\n",
    "\n",
    "dance_binarizer_pl = Pipeline(steps=[\n",
    "    ('binarizer', pp.Binarizer(threshold=dance_mean))\n",
    "])\n",
    "\n",
    "energy_binarizer_pl = Pipeline(steps=[\n",
    "    ('binarizer', pp.Binarizer(threshold=energy_mean))\n",
    "])\n",
    "\n",
    "valence_binarizer_pl = Pipeline(steps=[\n",
    "    ('binarizer', pp.Binarizer(threshold=valence_mean))\n",
    "])\n",
    "\n",
    "preproc2 = ColumnTransformer(transformers=[\n",
    "    ('one-hot', onehot_pl, ['artists', 'gender']),\n",
    "    ('dance_binarizer', dance_binarizer_pl, ['danceability']),\n",
    "    ('energy_binarizer', energy_binarizer_pl, ['energy']),\n",
    "    ('valence_binarizer', valence_binarizer_pl, ['valence'])\n",
    "])\n",
    "\n",
    "model_2 = Pipeline(steps=[\n",
    " ('preprocessor', preproc2),\n",
    " ('lin-reg', LinearRegression())\n",
    "])"
   ]
  },
  {
   "cell_type": "code",
   "execution_count": 43,
   "metadata": {},
   "outputs": [
    {
     "name": "stdout",
     "output_type": "stream",
     "text": [
      "[0.70219124 0.71273656 0.70851999 0.63889    0.57557754]\n",
      "Scores Mean: 0.6675830656195392\n"
     ]
    }
   ],
   "source": [
    "# average R^2\n",
    "scores = cross_val_score(model_2, X_train, y_train, cv=5)\n",
    "print(scores)\n",
    "print('Scores Mean: ' + str(scores.mean()))"
   ]
  },
  {
   "cell_type": "markdown",
   "metadata": {},
   "source": [
    "#### Model 3 \n",
    "Model 3 uses the previous Binarizer transformers and also uses a Function Transformer on the Duration_ms column to categorize a track as short, average, or long then one-hot encodes those values."
   ]
  },
  {
   "cell_type": "code",
   "execution_count": 44,
   "metadata": {},
   "outputs": [
    {
     "data": {
      "text/html": [
       "<div>\n",
       "<style scoped>\n",
       "    .dataframe tbody tr th:only-of-type {\n",
       "        vertical-align: middle;\n",
       "    }\n",
       "\n",
       "    .dataframe tbody tr th {\n",
       "        vertical-align: top;\n",
       "    }\n",
       "\n",
       "    .dataframe thead th {\n",
       "        text-align: right;\n",
       "    }\n",
       "</style>\n",
       "<table border=\"1\" class=\"dataframe\">\n",
       "  <thead>\n",
       "    <tr style=\"text-align: right;\">\n",
       "      <th></th>\n",
       "      <th>artists</th>\n",
       "      <th>duration_ms</th>\n",
       "      <th>popularity</th>\n",
       "      <th>danceability</th>\n",
       "      <th>energy</th>\n",
       "      <th>valence</th>\n",
       "      <th>tempo</th>\n",
       "      <th>gender</th>\n",
       "    </tr>\n",
       "  </thead>\n",
       "  <tbody>\n",
       "    <tr>\n",
       "      <td>0</td>\n",
       "      <td>EXO-SC</td>\n",
       "      <td>209253</td>\n",
       "      <td>71</td>\n",
       "      <td>0.735</td>\n",
       "      <td>0.727</td>\n",
       "      <td>0.612</td>\n",
       "      <td>111.928</td>\n",
       "      <td>male</td>\n",
       "    </tr>\n",
       "    <tr>\n",
       "      <td>1</td>\n",
       "      <td>EXO-SC</td>\n",
       "      <td>195613</td>\n",
       "      <td>61</td>\n",
       "      <td>0.817</td>\n",
       "      <td>0.640</td>\n",
       "      <td>0.772</td>\n",
       "      <td>89.970</td>\n",
       "      <td>male</td>\n",
       "    </tr>\n",
       "    <tr>\n",
       "      <td>2</td>\n",
       "      <td>EXO-SC</td>\n",
       "      <td>203866</td>\n",
       "      <td>61</td>\n",
       "      <td>0.862</td>\n",
       "      <td>0.782</td>\n",
       "      <td>0.847</td>\n",
       "      <td>135.029</td>\n",
       "      <td>male</td>\n",
       "    </tr>\n",
       "    <tr>\n",
       "      <td>3</td>\n",
       "      <td>EXO-SC</td>\n",
       "      <td>174720</td>\n",
       "      <td>61</td>\n",
       "      <td>0.693</td>\n",
       "      <td>0.866</td>\n",
       "      <td>0.691</td>\n",
       "      <td>97.048</td>\n",
       "      <td>male</td>\n",
       "    </tr>\n",
       "    <tr>\n",
       "      <td>4</td>\n",
       "      <td>EXO-SC</td>\n",
       "      <td>206293</td>\n",
       "      <td>61</td>\n",
       "      <td>0.471</td>\n",
       "      <td>0.755</td>\n",
       "      <td>0.178</td>\n",
       "      <td>166.134</td>\n",
       "      <td>male</td>\n",
       "    </tr>\n",
       "  </tbody>\n",
       "</table>\n",
       "</div>"
      ],
      "text/plain": [
       "  artists  duration_ms  popularity  danceability  energy  valence    tempo  \\\n",
       "0  EXO-SC       209253          71         0.735   0.727    0.612  111.928   \n",
       "1  EXO-SC       195613          61         0.817   0.640    0.772   89.970   \n",
       "2  EXO-SC       203866          61         0.862   0.782    0.847  135.029   \n",
       "3  EXO-SC       174720          61         0.693   0.866    0.691   97.048   \n",
       "4  EXO-SC       206293          61         0.471   0.755    0.178  166.134   \n",
       "\n",
       "  gender  \n",
       "0   male  \n",
       "1   male  \n",
       "2   male  \n",
       "3   male  \n",
       "4   male  "
      ]
     },
     "execution_count": 44,
     "metadata": {},
     "output_type": "execute_result"
    }
   ],
   "source": [
    "final_df.head(5)"
   ]
  },
  {
   "cell_type": "code",
   "execution_count": 45,
   "metadata": {},
   "outputs": [],
   "source": [
    "def duration_func(df):\n",
    "    result = df.apply(lambda x: x.apply(\n",
    "        lambda y: 'long' if y >= 240000 else ('average' if 240000 > y > 144000 else 'short')))\n",
    "    \n",
    "    return result"
   ]
  },
  {
   "cell_type": "code",
   "execution_count": 46,
   "metadata": {},
   "outputs": [],
   "source": [
    "func_pl = Pipeline(steps=[\n",
    "    ('func', pp.FunctionTransformer(func=duration_func, validate=False)),\n",
    "    ('one-hot', pp.OneHotEncoder(handle_unknown='ignore'))\n",
    "])\n",
    "\n",
    "onehot_pl = Pipeline(steps=[\n",
    "    ('one-hot', pp.OneHotEncoder(handle_unknown='ignore'))\n",
    "])\n",
    "\n",
    "dance_binarizer_pl = Pipeline(steps=[\n",
    "    ('binarizer', pp.Binarizer(threshold=dance_mean))\n",
    "])\n",
    "\n",
    "energy_binarizer_pl = Pipeline(steps=[\n",
    "    ('binarizer', pp.Binarizer(threshold=energy_mean))\n",
    "])\n",
    "\n",
    "valence_binarizer_pl = Pipeline(steps=[\n",
    "    ('binarizer', pp.Binarizer(threshold=valence_mean))\n",
    "])\n",
    "\n",
    "preproc3 = ColumnTransformer(transformers=[\n",
    "    ('func', func_pl, ['duration_ms']),\n",
    "    ('one-hot', onehot_pl, ['artists', 'gender']),\n",
    "    ('dance_binarizer', dance_binarizer_pl, ['danceability']),\n",
    "    ('energy_binarizer', energy_binarizer_pl, ['energy']),\n",
    "    ('valence_binarizer', valence_binarizer_pl, ['valence'])\n",
    "])\n",
    "\n",
    "model_3 = Pipeline(steps=[\n",
    "    ('preprocessor', preproc3),\n",
    "    ('lin-reg', LinearRegression())\n",
    "])"
   ]
  },
  {
   "cell_type": "code",
   "execution_count": 47,
   "metadata": {},
   "outputs": [
    {
     "name": "stdout",
     "output_type": "stream",
     "text": [
      "[0.7078886  0.71744704 0.71163685 0.64069009 0.5694989 ]\n",
      "Scores Mean: 0.669432293965895\n"
     ]
    }
   ],
   "source": [
    "scores = cross_val_score(model_3, X_train, y_train, cv=5)\n",
    "print(scores)\n",
    "print('Scores Mean: ' + str(scores.mean()))"
   ]
  },
  {
   "cell_type": "markdown",
   "metadata": {},
   "source": [
    "#### Adjusting Parameters of Chosen Model"
   ]
  },
  {
   "cell_type": "code",
   "execution_count": 48,
   "metadata": {},
   "outputs": [],
   "source": [
    "# imports\n",
    "from sklearn.model_selection import GridSearchCV"
   ]
  },
  {
   "cell_type": "code",
   "execution_count": 49,
   "metadata": {},
   "outputs": [],
   "source": [
    "# list of parameters\n",
    "parameters = {\n",
    "    'lin-reg__fit_intercept': [False, True],\n",
    "    'lin-reg__normalize': [False, True],\n",
    "    'lin-reg__copy_X': [False, True],\n",
    "    'lin-reg__n_jobs': [5, 10, 15, 20, 25, 30],\n",
    "}"
   ]
  },
  {
   "cell_type": "code",
   "execution_count": 50,
   "metadata": {},
   "outputs": [],
   "source": [
    "model_3 = Pipeline(steps=[\n",
    "    ('preprocessor', preproc3),\n",
    "    ('lin-reg', LinearRegression())\n",
    "])"
   ]
  },
  {
   "cell_type": "code",
   "execution_count": 51,
   "metadata": {},
   "outputs": [],
   "source": [
    "clf = GridSearchCV(model_3, parameters, cv=5)"
   ]
  },
  {
   "cell_type": "code",
   "execution_count": 52,
   "metadata": {},
   "outputs": [
    {
     "data": {
      "text/plain": [
       "{'lin-reg__copy_X': False,\n",
       " 'lin-reg__fit_intercept': True,\n",
       " 'lin-reg__n_jobs': 5,\n",
       " 'lin-reg__normalize': False}"
      ]
     },
     "execution_count": 52,
     "metadata": {},
     "output_type": "execute_result"
    }
   ],
   "source": [
    "# best parameters for the final model\n",
    "clf.fit(X_train, y_train)\n",
    "clf.best_params_"
   ]
  },
  {
   "cell_type": "code",
   "execution_count": 54,
   "metadata": {},
   "outputs": [],
   "source": [
    "# model 4 as the model w/ the best parameters\n",
    "model_4 = clf.best_estimator_"
   ]
  },
  {
   "cell_type": "code",
   "execution_count": 55,
   "metadata": {},
   "outputs": [
    {
     "name": "stdout",
     "output_type": "stream",
     "text": [
      "[0.7078886  0.71744704 0.71163685 0.64069009 0.5694989 ]\n",
      "Scores Mean: 0.669432293965895\n"
     ]
    }
   ],
   "source": [
    "scores = cross_val_score(model_4, X_train, y_train, cv=5)\n",
    "print(scores)\n",
    "print('Scores Mean: ' + str(scores.mean()))"
   ]
  },
  {
   "cell_type": "code",
   "execution_count": 56,
   "metadata": {},
   "outputs": [],
   "source": [
    "# setting the final model as model 4 \n",
    "final_pl = model_4"
   ]
  },
  {
   "cell_type": "code",
   "execution_count": 57,
   "metadata": {},
   "outputs": [],
   "source": [
    "final_r2s = []\n",
    "final_rmses = []\n",
    "\n",
    "for x in range(50):\n",
    "    X_train, X_test, y_train, y_test = train_test_split(X, Y, test_size=0.25)\n",
    "    final_pl.fit(X_train, y_train)\n",
    "    preds = final_pl.predict(X_test)\n",
    "\n",
    "    rmse = np.sqrt(np.mean((preds - y_test)**2))\n",
    "    final_rmses.append(rmse)\n",
    "\n",
    "    r2 = final_pl.score(X_test, y_test)\n",
    "    final_r2s.append(r2)"
   ]
  },
  {
   "cell_type": "code",
   "execution_count": 58,
   "metadata": {},
   "outputs": [
    {
     "name": "stdout",
     "output_type": "stream",
     "text": [
      "RMSE Mean: 7.444511783388301\n",
      "Score Mean: 0.6843512134449881\n"
     ]
    },
    {
     "data": {
      "image/png": "[encoded data removed]",
      "text/plain": [
       "<Figure size 432x288 with 1 Axes>"
      ]
     },
     "metadata": {
      "image/png": {
       "height": 248,
       "width": 378
      },
      "needs_background": "light"
     },
     "output_type": "display_data"
    }
   ],
   "source": [
    "final_df = pd.DataFrame(data=final_r2s)\n",
    "sns.scatterplot(data=final_df)\n",
    "print('RMSE Mean: ' + str(np.mean(final_rmses)))\n",
    "print('Score Mean: ' + str(final_df.mean()[0]))"
   ]
  },
  {
   "cell_type": "markdown",
   "metadata": {},
   "source": [
    "### Fairness Evaluation"
   ]
  },
  {
   "cell_type": "code",
   "execution_count": 59,
   "metadata": {},
   "outputs": [],
   "source": [
    "# making the evaluation dataset\n",
    "\n",
    "fairness_df = mdl_df.drop(columns=['name', 'key', 'loudness', 'mode', \n",
    "                       'speechiness', 'acousticness', 'instrumentalness', \n",
    "                       'liveness', 'time_signature'])"
   ]
  },
  {
   "cell_type": "markdown",
   "metadata": {},
   "source": [
    "##### Permutation Test\n",
    "\n",
    "**Null Hypothesis:** My model is fair as the score/R^2 is roughly the same for both subsets.\n",
    "<br>\n",
    "**Alternative Hypothesis:** My model is unfair as the score/R^2 of the male subset differs compared to the female subset.\n",
    "<br>\n",
    "**Test Statistic:** Absolute difference in the score/R^2 values."
   ]
  },
  {
   "cell_type": "code",
   "execution_count": 60,
   "metadata": {},
   "outputs": [],
   "source": [
    "# splitting up data based on gender\n",
    "males = fairness_df[fairness_df['gender'] == 'male']\n",
    "females = fairness_df[fairness_df['gender'] == 'female']"
   ]
  },
  {
   "cell_type": "markdown",
   "metadata": {},
   "source": [
    "##### Train-Test Split for Male Subset"
   ]
  },
  {
   "cell_type": "code",
   "execution_count": 61,
   "metadata": {},
   "outputs": [],
   "source": [
    "# male train-test\n",
    "males_X = males.drop(columns='popularity')\n",
    "males_Y = males['popularity']\n",
    "males_X_train, males_X_test, males_y_train, males_y_test = train_test_split(males_X, males_Y, test_size=0.25)"
   ]
  },
  {
   "cell_type": "code",
   "execution_count": 62,
   "metadata": {},
   "outputs": [],
   "source": [
    "# calcuating male r^2\n",
    "final_pl.fit(males_X_train, males_y_train)\n",
    "final_pl.predict(males_X_test)\n",
    "males_r2 = final_pl.score(males_X_test, males_y_test)"
   ]
  },
  {
   "cell_type": "markdown",
   "metadata": {},
   "source": [
    "##### Train-Test Split for Female Subset"
   ]
  },
  {
   "cell_type": "code",
   "execution_count": 63,
   "metadata": {},
   "outputs": [],
   "source": [
    "# female train-test\n",
    "females_X = females.drop(columns='popularity')\n",
    "females_Y = females['popularity']\n",
    "females_X_train, females_X_test, females_y_train, females_y_test = train_test_split(females_X, females_Y, test_size=0.25)"
   ]
  },
  {
   "cell_type": "code",
   "execution_count": 64,
   "metadata": {},
   "outputs": [],
   "source": [
    "# calcuating female r^2\n",
    "final_pl.fit(females_X_train, females_y_train)\n",
    "final_pl.predict(females_X_test)\n",
    "females_r2 = final_pl.score(females_X_test, females_y_test)"
   ]
  },
  {
   "cell_type": "code",
   "execution_count": 65,
   "metadata": {},
   "outputs": [
    {
     "name": "stdout",
     "output_type": "stream",
     "text": [
      "Score/R^2 of Male Subset: 0.725768062138586\n",
      "Score/R^2 of Female Subset: 0.5467258609803978\n",
      "Observed Value: 0.17904220115818825\n"
     ]
    }
   ],
   "source": [
    "# getting observed value for permutation test\n",
    "\n",
    "print('Score/R^2 of Male Subset: ' + str(males_r2))\n",
    "print('Score/R^2 of Female Subset: ' + str(females_r2))\n",
    "\n",
    "obs = abs(males_r2 - females_r2)\n",
    "print('Observed Value: ' + str(obs))"
   ]
  },
  {
   "cell_type": "code",
   "execution_count": 66,
   "metadata": {},
   "outputs": [],
   "source": [
    "# function for test\n",
    "def score(df, pl):\n",
    "    X = df.drop(columns='popularity')\n",
    "    Y = df['popularity']\n",
    "    X_train, X_test, y_train, y_test = train_test_split(X, Y, test_size=0.25)\n",
    "    \n",
    "    pl.fit(X_train, y_train)\n",
    "    pl.predict(X_test)\n",
    "    score = pl.score(X_test, y_test)\n",
    "    \n",
    "    return score"
   ]
  },
  {
   "cell_type": "code",
   "execution_count": 67,
   "metadata": {},
   "outputs": [],
   "source": [
    "# permutation test\n",
    "score_diffs = []\n",
    "\n",
    "for x in range(100):\n",
    "    shuffled_col = fairness_df['gender'].sample(replace=False, frac=1).reset_index(drop=True)\n",
    "\n",
    "    shuffled = fairness_df.assign(**{'gender': shuffled_col})\n",
    "\n",
    "    males = shuffled[shuffled['gender'] == 'male']\n",
    "    females = shuffled[shuffled['gender'] == 'female']\n",
    "    \n",
    "    male_score = score(males, final_pl)\n",
    "    female_score = score(females, final_pl)\n",
    "\n",
    "    diff_in_score = abs(male_score - female_score)\n",
    "\n",
    "    score_diffs.append(diff_in_score)"
   ]
  },
  {
   "cell_type": "code",
   "execution_count": 68,
   "metadata": {},
   "outputs": [
    {
     "name": "stdout",
     "output_type": "stream",
     "text": [
      "P-Value: 0.1\n"
     ]
    },
    {
     "data": {
      "image/png": "[encoded data removed]",
      "text/plain": [
       "<Figure size 432x288 with 1 Axes>"
      ]
     },
     "metadata": {
      "image/png": {
       "height": 263,
       "width": 412
      },
      "needs_background": "light"
     },
     "output_type": "display_data"
    }
   ],
   "source": [
    "p_val = np.mean(score_diffs >= obs)\n",
    "print('P-Value: ' + str(p_val))\n",
    "pd.Series(score_diffs).plot(kind='hist', title='Permutation Test for Popularity among Male/Female K-Pop Artists')\n",
    "plt.scatter(obs, 0, c='r');"
   ]
  },
  {
   "cell_type": "code",
   "execution_count": 69,
   "metadata": {},
   "outputs": [
    {
     "data": {
      "text/plain": [
       "True"
      ]
     },
     "execution_count": 69,
     "metadata": {},
     "output_type": "execute_result"
    }
   ],
   "source": [
    "# fail to reject null hypothesis\n",
    "p_val > 0.05"
   ]
  }
 ],
 "metadata": {
  "kernelspec": {
   "display_name": "Python 3",
   "language": "python",
   "name": "python3"
  },
  "language_info": {
   "codemirror_mode": {
    "name": "ipython",
    "version": 3
   },
   "file_extension": ".py",
   "mimetype": "text/x-python",
   "name": "python",
   "nbconvert_exporter": "python",
   "pygments_lexer": "ipython3",
   "version": "3.7.4"
  }
 },
 "nbformat": 4,
 "nbformat_minor": 4
}
